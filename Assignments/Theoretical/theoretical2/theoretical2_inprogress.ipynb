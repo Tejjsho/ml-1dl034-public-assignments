{
 "cells": [
  {
   "cell_type": "markdown",
   "metadata": {},
   "source": [
    "# Logistic Regression\n",
    "## Introduction\n",
    "\n",
    "In this notebook we are going to study gradient descent and in this case applied to logistic regression.\n",
    "Logistic regression (LR) is a statistical method for analysing datasets where there are one of more independent variables that determine the outcome. The outcome is a dichotomous, meaning there are only two possible outcomes (1 / 0, Yes / No, True / False). For instance, if you want to predict the sex of a person from age ($x_1$) and income ($x_2$), the logistic regression model would be\n",
    "\n",
    "$$ h(x) = b_0 + \\theta_0x_1 + \\theta_1 x_2 $$\n",
    "\n",
    "where $h(x)$ is the outcome varibale, $b_0$ the bias and $\\theta$ the weights. The goal is ultimately to tune these parameters with respect to the obeserved data ($x_1$,$x_2$)\n",
    "\n",
    "LR estimates a probability (between 0 and 100%) but $h(x)$ gives values in $(-\\infty, +\\infty)$. We need to \"squish\" $h(x)$ to restrict it to a suitable range. LR commonly uses the logistic function (a.k.a. sigmoid function) to compute probabilities: \n",
    "\n",
    "$$ \\sigma(h(x)) = \\frac{1}{1+e^{-h(x)}} $$\n",
    "\n",
    "It is possible to threshold the logistic function (values between 0-1), and values below 0.5 will be counted as the prediction of class 0 and values larger than 0.5 results in the prediction of class 1.\n",
    "\n",
    "The full logistic regression model is then:\n",
    "\n",
    "$$ z(x) = \\sigma(h(x)) = \\frac{1}{1+e^{-(b_0 + \\theta_0x_1 + \\theta_1 x_2)}} $$"
   ]
  },
  {
   "cell_type": "markdown",
   "metadata": {},
   "source": [
    "# Ready, steady, code! 🚀\n",
    "\n",
    "Let's start with loading some data, scikit-learn comes with a couple of toy datasets and we are going to use the \"iris\" dataset where the goal is to classify which type of flower based on a set of features consisting of sepal length (cm), sepal width (cm), petal length (cm), petal width (cm). To begin with we consider only two of those features "
   ]
  },
  {
   "cell_type": "code",
   "execution_count": 163,
   "metadata": {
    "ExecuteTime": {
     "end_time": "2021-01-19T07:50:41.692245Z",
     "start_time": "2021-01-19T07:50:41.685547Z"
    }
   },
   "outputs": [],
   "source": [
    "# import stuff that we need\n",
    "import numpy as np\n",
    "import matplotlib as mpl\n",
    "import matplotlib.pyplot as plt\n",
    "import sklearn\n",
    "import sklearn.datasets as ds\n",
    "from IPython.display import clear_output # if you get problem with this import you can skip it, it is used to print the cost later which can be skipped"
   ]
  },
  {
   "cell_type": "code",
   "execution_count": 164,
   "metadata": {
    "ExecuteTime": {
     "end_time": "2021-01-19T07:52:28.766916Z",
     "start_time": "2021-01-19T07:52:28.757691Z"
    }
   },
   "outputs": [],
   "source": [
    "assert np.__version__ >= \"1.19.4\", \"Looks like you don't have the same version of numpy as us!\"\n",
    "assert mpl.__version__ >= \"3.3.3\", \"Looks like you don't have the same version of matplotlib as us!\"\n",
    "assert sklearn.__version__ >= \"0.24.0\", \"Looks like you don't have the same version of sklearn as us!\""
   ]
  },
  {
   "cell_type": "code",
   "execution_count": 165,
   "metadata": {
    "ExecuteTime": {
     "end_time": "2021-01-19T07:52:33.179008Z",
     "start_time": "2021-01-19T07:52:33.151459Z"
    }
   },
   "outputs": [],
   "source": [
    "data = ds.load_iris()\n",
    "\n",
    "selected_features_idx = [0,1] #'sepal length (cm)', 'sepal width (cm)'\n",
    "selected_targets = [0,1] #'setosa' 'versicolor'\n",
    "\n",
    "idx = np.array([x in selected_targets for x in data.target])\n",
    "x = data.data[:,selected_features_idx][idx]\n",
    "y = data.target[idx]\n",
    "y[y > 1] = 1 # Reset labels greater than 1 to 1"
   ]
  },
  {
   "cell_type": "code",
   "execution_count": 166,
   "metadata": {
    "ExecuteTime": {
     "end_time": "2021-01-19T07:52:46.508713Z",
     "start_time": "2021-01-19T07:52:46.172908Z"
    }
   },
   "outputs": [
    {
     "data": {
      "image/png": "[encoded data removed]",
      "text/plain": [
       "<Figure size 432x288 with 1 Axes>"
      ]
     },
     "metadata": {
      "needs_background": "light"
     },
     "output_type": "display_data"
    }
   ],
   "source": [
    "plt.figure()\n",
    "for label in np.unique(y):\n",
    "    plt.scatter(x[:,0][y==label],x[:,1][y==label], label = data.target_names[label])\n",
    "plt.legend()\n",
    "plt.show()"
   ]
  },
  {
   "cell_type": "markdown",
   "metadata": {},
   "source": [
    "Now we need a function that predicts the logistic regression model and make predictions. This function takes a measurement, the current bias and the weights as input.\n",
    "\n",
    "$$ z(x) = \\frac{1}{1+e^{-(b_0 + \\theta_0x_1 + \\theta_1 x_2)}} $$\n"
   ]
  },
  {
   "cell_type": "code",
   "execution_count": 167,
   "metadata": {},
   "outputs": [],
   "source": [
    "def z_x(x, bias, weights):\n",
    "    \"\"\" param x: vector containing measurements. x = [x1, x2]\n",
    "        param bias: single value\n",
    "        param weight: vector containing model weights. weights= [w1,w2]\n",
    "        \n",
    "        return: value of logistic regression model for defined x, bias and weights\n",
    "    \"\"\"\n",
    "    terms = []\n",
    "    for x_i, w_i in zip(x,weights):\n",
    "        terms.append(w_i*x_i)\n",
    "    exponents = bias+sum(terms)\n",
    "    return 1/(1+np.exp(-exponents))\n",
    "\n"
   ]
  },
  {
   "cell_type": "code",
   "execution_count": 168,
   "metadata": {},
   "outputs": [
    {
     "name": "stdout",
     "output_type": "stream",
     "text": [
      "[5, 14]\n",
      "19\n",
      "22\n",
      "0.9999999997210531\n",
      "0.9999999997210531\n"
     ]
    }
   ],
   "source": [
    "termst = []\n",
    "wt = [5,7]\n",
    "xt = [1,2]\n",
    "biast = 3\n",
    "for x_i, w_i in zip(xt,wt):\n",
    "    termst.append(x_i*w_i)\n",
    "print(termst)\n",
    "print(sum(termst))\n",
    "print(biast+sum(termst))\n",
    "qt = (biast+sum(termst))\n",
    "print(1/(1+np.exp(-qt)))\n",
    "print(z_x(xt,biast,wt))"
   ]
  },
  {
   "cell_type": "markdown",
   "metadata": {},
   "source": [
    "Now try it with some random weights and bias"
   ]
  },
  {
   "cell_type": "code",
   "execution_count": 169,
   "metadata": {},
   "outputs": [
    {
     "name": "stdout",
     "output_type": "stream",
     "text": [
      "Accuracy:  0.5\n"
     ]
    }
   ],
   "source": [
    "bias = np.random.normal()\n",
    "weights = np.random.normal(size = len(x[0]))\n",
    "\n",
    "predicted = []\n",
    "for i in range(len(x)):\n",
    "    yhat = z_x(x[i], bias, weights)\n",
    "    predicted.append(round(yhat))\n",
    "\n",
    "print('Accuracy: ', np.sum(np.equal(y,predicted)) / len(predicted))"
   ]
  },
  {
   "cell_type": "markdown",
   "metadata": {},
   "source": [
    "lets plot the decision boundary between the points for this set of weights. The decision boundary is found by setting z(x) = 0 which gives:\n",
    "\n",
    "$$ x_2 = -\\frac{b_0 + \\theta_0x_1}{\\theta_1} $$"
   ]
  },
  {
   "cell_type": "code",
   "execution_count": 170,
   "metadata": {},
   "outputs": [
    {
     "data": {
      "image/png": "[encoded data removed]",
      "text/plain": [
       "<Figure size 432x288 with 1 Axes>"
      ]
     },
     "metadata": {
      "needs_background": "light"
     },
     "output_type": "display_data"
    }
   ],
   "source": [
    "x_values = x[:,0]\n",
    "y_values = - (bias + weights[0]*x_values) / weights[1]\n",
    "plt.figure()\n",
    "plt.scatter(x[:,0][y==0],x[:,1][y==0], label = '0')\n",
    "plt.scatter(x[:,0][y==1],x[:,1][y==1], label = '2')\n",
    "plt.plot(x_values, y_values, label='Decision Boundary')\n",
    "plt.legend()\n",
    "plt.show()"
   ]
  },
  {
   "cell_type": "markdown",
   "metadata": {},
   "source": [
    "Not very good (or did you get lucky with the weights?). Try rerunning it a couple of times to see if you can randomly find a better set of weights that improves the accuracy.\n",
    "\n",
    "Now, a better way of finding the optimal weights is the gradient descent method. Gradient descent is an iterative process of minimizing a function by following the gradients of a pre defined cost function. This is useful for updating and tuning the parameters of our logistic regression model. The updates are defined as:\n",
    "\n",
    "$$ \\theta_j \\leftarrow \\theta_j - \\alpha \\frac{\\partial J(\\theta)}{\\partial\\theta_j} $$\n",
    "\n",
    "and similarily for the bias term \n",
    "\n",
    "$$ \\theta_j \\leftarrow b_0 - \\alpha \\frac{\\partial J(b_0)}{\\partial b_o} $$\n",
    "\n",
    "where $\\alpha$ is a user specified learning rate, controlling the step size of each update and $J(\\theta)$ is the cost function. Hence, to minimize the cost function, we move in the direction opposite to the gradient.\n",
    "\n",
    "We need to define a cost function and for binary classifications Binary-Cross-Entropy Loss Function is a good choise. Binary-Cross-Entropy is defined as \n",
    "\n",
    "$$\n",
    "J(\\theta)=\n",
    "\\begin{cases}\n",
    "-log(g(x)),& \\text{if } y = 1\\\\\n",
    "-log(1 - g(x)),& \\text{if } y = 0\n",
    "\\end{cases}\n",
    "$$\n",
    "\n",
    "where y is the target class. The Binary-Cross-Entropy tells us that if the target is 1 and we predict 0, then we will get a large error ($-log(0) = \\infty$) and vice verca ($-log(1 - 1) = -log(0) = \\infty$).\n",
    "\n",
    "The two functions can be combined into one as:\n",
    "$$ J(\\theta)= -y\\cdot log(z(x)) - (1-y)\\cdot log(1-z(x))$$\n",
    "\n",
    "For gradient descent we need the derivative of this cost function with respect to the weights $\\frac{\\partial J(\\theta)}{\\partial\\theta_j}$. We can get this with the chain rule:\n",
    "\n",
    "$$ \\frac{\\partial J(\\theta)}{\\partial\\theta_j} = \\frac{\\partial J(\\theta)}{\\partial z(x)} \\cdot \\frac{\\partial z(x)}{\\partial h(x)} \\cdot \\frac{\\partial h(x)}{\\partial \\theta}$$\n",
    "\n",
    "Where the three derivatives result in:\n",
    "$$\\frac{\\partial J(\\theta)}{\\partial z(x)} =  -(\\frac{y}{z(x)} - \\frac{(1-y)}{(1-z(x)}$$\n",
    "$$\\frac{\\partial z(x)}{\\partial h(x)} = z(x)\\cdot(1-z(x))$$\n",
    "$$\\frac{\\partial h(x)}{\\partial \\theta} =  x$$\n",
    "\n",
    "which combined gives \n",
    "\n",
    "$$ \\frac{\\partial J(\\theta)}{\\partial\\theta} = x\\cdot(z(x)-y) $$\n",
    "\n",
    "for the bias term the derivative is similar but it's not dependent on x since $\\frac{\\partial h(x)}{\\partial b_0} =  1$\n",
    "\n",
    "$$ \\frac{\\partial J(b_0)}{\\partial b_0} = z(x)-y $$\n",
    "\n",
    "The full algorithm is:\n",
    "1. initialize the weights randomly \n",
    "2. Calculate the gradients of cost function w.r.t parameters\n",
    "3. Update the weights by $ \\theta_j \\leftarrow \\theta_j - \\alpha \\frac{\\partial}{\\partial\\theta_j}J(\\theta) $\n",
    "4. Update the bias by $ b_0 \\leftarrow b_0 - \\alpha \\frac{\\partial}{\\partial b_0}J(b_0) $\n",
    "5. repeat until value of cost function does not change or to a pre-defined number of iterations"
   ]
  },
  {
   "cell_type": "markdown",
   "metadata": {},
   "source": [
    "------------------------------------------------------------\n",
    "NOTE that \n",
    "\n",
    "$$\n",
    "Loss = -\\frac{1}{n}\\sum_{i=1}^ny_i*log(\\hat{y}_i)+(1-y_i)*log(1-\\hat{y}_i)\n",
    "$$\n",
    "$ y_i = $ target value <br>\n",
    "$ \\hat{y}_i = $ model output value\n",
    "\n",
    "------------------------------------------------------------"
   ]
  },
  {
   "cell_type": "markdown",
   "metadata": {},
   "source": [
    "Write a function for the cost and one for its derivative with respect to the weights and one with respect to the bias. Note that the derivative function will return the number of values corresponing the the number of weights that you have    "
   ]
  },
  {
   "cell_type": "code",
   "execution_count": 171,
   "metadata": {},
   "outputs": [],
   "source": [
    "def cost_function(y, x, bias, weights):\n",
    "    \"\"\" param y: Ground truth label for measurements\n",
    "        param x: vector containing measurements. x = [x1, x2]\n",
    "        param bias: single value\n",
    "        param weight: vector containing model weights. weights= [w1,w2]\n",
    "    \n",
    "        return: value of the cost function. In this case BCE (binary cross entropy)\n",
    "    \"\"\"\n",
    "    #Loss = -\\frac{1}{n}\\sum_{i=1}^ny_i*log(\\hat{y}_i)+(1-y_i)*log(1-\\hat{y}_i)\n",
    "    #https://peltarion.com/knowledge-center/documentation/modeling-view/build-an-ai-model/loss-functions/binary-crossentropy\n",
    "    n = len(x)\n",
    "    loss_array = []\n",
    "    for i in range(n):\n",
    "        zi = z_x(x[i],bias,weights)\n",
    "        ei = y[i]*np.log(zi)+(1-y[i])*np.log(1-zi)\n",
    "        loss_array.append(ei)\n",
    "    cost = (-1/n)*np.sum(loss_array)\n",
    "\n",
    "    #z = []\n",
    "    #for x_i in x:\n",
    "    #    z.append(z_x(x_i,bias,weights))\n",
    "    #print(\"x\",len(x))\n",
    "    #print(\"y\",len(y))\n",
    "    #a = np.log(z_x(x,bias,weights))\n",
    "    #b = 1-y\n",
    "    #c = np.log(1-(z_x(x, bias, weights)))\n",
    "    #print(\"log z_x\",a)\n",
    "    #print(\"1-y\",b)\n",
    "    #print(\"log 1-z_x\",c)\n",
    "    #print(\"len z\",(z))\n",
    "    #d = -y*a\n",
    "    #e = b*c\n",
    "    #print(d)\n",
    "    #print(e)\n",
    "\n",
    "    #cost = -y*np.log(z_x(x,bias,weights))-(1-y)*np.log(1-(z_x(x, bias, weights)))\n",
    "    #f = -y*np.log(z)\n",
    "    #print(f)\n",
    "    #g = (1-y)*np.log(1-z)\n",
    "    #print(z)\n",
    "    #g = 1-z\n",
    "    #print(g)\n",
    "    #one_arr_y = np.ones(len(y))\n",
    "    #one_arr_z = np.ones(len(z))\n",
    "    #cost = -y*np.log(z)-(one_arr_y-y)*np.log(one_arr_z-z)\n",
    "\n",
    "    \n",
    "\n",
    "\n",
    "    return cost"
   ]
  },
  {
   "cell_type": "code",
   "execution_count": 172,
   "metadata": {},
   "outputs": [
    {
     "name": "stdout",
     "output_type": "stream",
     "text": [
      "[ 0. -1. -2. -3.]\n",
      "0.3835400544452308\n"
     ]
    }
   ],
   "source": [
    "#DELETEME\n",
    "a = [1,2,3,4]\n",
    "print(np.ones(len(a))-a)\n",
    "bias = np.random.normal()\n",
    "weights = np.random.normal(size = len(x[0]))\n",
    "#print((weights))\n",
    "#print(z_x(x,bias,weights))\n",
    "cost = cost_function(y,x,bias,weights)\n",
    "print(cost)"
   ]
  },
  {
   "cell_type": "markdown",
   "metadata": {},
   "source": [
    "\n",
    "$$ \\frac{\\partial J(\\theta)}{\\partial\\theta_j} = \\frac{\\partial J(\\theta)}{\\partial z(x)} \\cdot \\frac{\\partial z(x)}{\\partial h(x)} \\cdot \\frac{\\partial h(x)}{\\partial \\theta}$$\n",
    "\n",
    "Where the three derivatives result in:\n",
    "$$\\frac{\\partial J(\\theta)}{\\partial z(x)} =  -(\\frac{y}{z(x)} - \\frac{(1-y)}{(1-z(x)}$$\n",
    "$$\\frac{\\partial z(x)}{\\partial h(x)} = z(x)\\cdot(1-z(x))$$\n",
    "$$\\frac{\\partial h(x)}{\\partial \\theta} =  x$$"
   ]
  },
  {
   "cell_type": "code",
   "execution_count": 173,
   "metadata": {},
   "outputs": [],
   "source": [
    "def derivative_weights(y, x, bias, weights):\n",
    "    \"\"\" param y: Ground truth label for measurements\n",
    "        param x: vector containing measurements. x = [x1, x2]\n",
    "        param bias: single value\n",
    "        param weight: vector containing model weights. weights= [w1,w2]\n",
    "    \n",
    "        return: derivative of cost function with respect to the weights, dw = [dw1, dw2]\n",
    "    \"\"\"\n",
    "    dw = []\n",
    "    for j in range(len(weights)):\n",
    "        deriv_sum = []\n",
    "        for i in range(len(x)):\n",
    "            x_i = x[i]\n",
    "            #h_i = bias + sum([x*w for x,w in zip(x_i,weights)]) #b+theta0*x0+theta1*x1\n",
    "            h_i = z_x(x_i, bias, weights)\n",
    "            deriv_sum.append((h_i-y[i])*x_i[j])\n",
    "        dw_j = sum(deriv_sum)/len(x)\n",
    "        dw.append(dw_j)\n",
    "    cost_deriv = dw\n",
    "\n",
    "\n",
    "    if False:\n",
    "        # y = 1 or 0 here...\n",
    "        assert(len(x)==2)\n",
    "        assert(isinstance(y,int) or isinstance(y,np.int32))\n",
    "        assert(isinstance(bias,float) or isinstance(bias,np.float32))\n",
    "        assert(len(weights)==2)\n",
    "        pd_J_z = -(y/z_x(x,bias,weights)-(1-y)/(1-z_x(x,bias,weights)))\n",
    "        pd_z_h = z_x(x,bias,weights)*(1-z_x(x,bias,weights))\n",
    "        pd_h_w = x\n",
    "        dw = pd_J_z*pd_z_h*pd_h_w \n",
    "        cost_deriv = dw\n",
    "        #z = []\n",
    "        #for x_i in x:\n",
    "        #    z.append(z_x(x_i,bias,weights))\n",
    "        #one_arr_y = np.ones(len(y))\n",
    "        #one_arr_z = np.ones(len(z))\n",
    "        ##chain rule, partial derivatives\n",
    "        ##pd_Jz = -((y/z_x(x,bias,weights))-((1-y)/(1-z_x(x,bias,weights))))\n",
    "        #pd_Jz = -((y/z)-((one_arr_y-y)/(one_arr_z-z)))\n",
    "        ##pd_zh = z_x(x,bias,weights)*(1-z_x(x,bias,weights))\n",
    "        #pd_zh = z*(one_arr_z-z)\n",
    "        #pd_h0 = x\n",
    "        #print(\"h0\",(pd_h0))\n",
    "        #print(len(pd_Jz))\n",
    "        #print(len(pd_zh))\n",
    "        #cost_deriv = pd_Jz*pd_zh*pd_h0\n",
    "        #print(len(cost_deriv))\n",
    "    return cost_deriv"
   ]
  },
  {
   "cell_type": "code",
   "execution_count": 174,
   "metadata": {},
   "outputs": [
    {
     "name": "stdout",
     "output_type": "stream",
     "text": [
      "[0, 1]\n",
      "<class 'numpy.int32'>\n",
      "0\n",
      "0.5018796260400333\n",
      "len 2\n",
      "[-0.921198761859041, -0.3742510604589016]\n"
     ]
    }
   ],
   "source": [
    "#DELETEME\n",
    "print(list(range(2)))\n",
    "print(type(y[1]))\n",
    "print(y[1])\n",
    "print(bias)\n",
    "#q = derivative_weights(y[1],x[1],bias,weights)\n",
    "q = derivative_weights(y,x,bias,weights)\n",
    "print(\"len\", len(q))\n",
    "print(q)\n",
    "\n"
   ]
  },
  {
   "cell_type": "code",
   "execution_count": 175,
   "metadata": {},
   "outputs": [],
   "source": [
    "def derivative_bias(y, x, bias, weights):\n",
    "    \"\"\" param y: Ground truth label for measurements\n",
    "        param x: vector containing measurements. x = [x1, x2]\n",
    "        param bias: single value\n",
    "        param weight: vector containing model weights. weights= [w1,w2]\n",
    "    \n",
    "        return: derivative of cost function with respect to the bias\n",
    "    \"\"\"\n",
    "    deriv_sum = []\n",
    "    n = len(x)\n",
    "    for i in range(n):\n",
    "        deriv_sum.append(z_x(x[i],bias,weights) - y[i])\n",
    "    cost_deriv = sum(deriv_sum)/n\n",
    "\n",
    "    if False:\n",
    "        # y = 1 or 0 here...\n",
    "        cost_deriv  = z_x(x,bias,weights)-y\n",
    "    return cost_deriv"
   ]
  },
  {
   "cell_type": "markdown",
   "metadata": {},
   "source": [
    "Finally lets fit the logistic regression model with gradient descent. Gradient descent works by, at each iteration, average the total cost and the derivatives on over the full training set like:\n",
    "\n",
    "$$  J(\\theta)=\\frac{1}{M}\\sum_i^M -y\\cdot log(z(x_i)) - (1-y_i)\\cdot log(1-z(x_i))$$\n",
    "$$  \\frac{\\partial J(\\theta)}{\\partial\\theta_j} = \\frac{1}{M}\\sum_i^M x_i\\cdot(z(x_i)-y_i) $$\n",
    "\n",
    "Now we have everything we need to do gradient descent for logistic regression, remember the algorithm for gradient descent is:\n",
    "1. initialize the weights randomly \n",
    "2. Calculate the gradients of cost function w.r.t parameters\n",
    "3. Update the weights by $ \\theta_j \\leftarrow \\theta_j - \\alpha \\frac{\\partial}{\\partial\\theta_j}J(\\theta) $\n",
    "4. Update the bias by $ b_0 \\leftarrow b_0 - \\alpha \\frac{\\partial}{\\partial b_0}J(b_0) $\n",
    "5. repeat until value of cost function does not change or to a pre-defined number of iterations\n",
    "\n",
    "Implement gradient descent for logistic regression. Save the current cost at each iteration and plot the cost at each iteration (Iteration on x-axis and Cost on y-axis)"
   ]
  },
  {
   "cell_type": "code",
   "execution_count": 181,
   "metadata": {},
   "outputs": [
    {
     "name": "stdout",
     "output_type": "stream",
     "text": [
      "iteration:  499  cost:  0.05132821911236927\n",
      "new bias, weights: -0.577423801859762 [  6.15021072 -10.57906918]\n"
     ]
    }
   ],
   "source": [
    "lr = 0.002 #<-- specify learning rate ## I have no intuition of a good value here....\n",
    "\n",
    "#initialize weights and bias as random\n",
    "bias = np.random.normal()\n",
    "weights = np.random.normal(size = len(x[0]))\n",
    "print(\"old bias, weights:\", bias, weights)\n",
    "\n",
    "\n",
    "number_of_iterations = 500 #<-- number of iterations to perform gradient descent\n",
    "\n",
    "#Loop through training data and update the weights at each iteration\n",
    "\n",
    "for it in range(number_of_iterations):\n",
    "# .. Code for gradient descent for logistic regression\n",
    "    new_weights =  weights - derivative_weights(y, x, bias, weights) \n",
    "    #b = derivative_bias(y,x,bias,weights)\n",
    "    #print(\"bias deriv\",b)\n",
    "    new_bias = bias - lr*derivative_bias(y, x, bias, weights)\n",
    "    weights = new_weights\n",
    "    bias = new_bias\n",
    "\n",
    "    #bias = bias - lr*derivative_bias(y, x, bias, weights) \n",
    "    #print(len(weights)) #2\n",
    "    #rqw = derivative_weights(y,x,bias,weights)\n",
    "\n",
    "    #weights = weights - lr*derivative_weights(y,x,bias,weights)\n",
    "    cost = cost_function(y,x,bias,weights)\n",
    "    clear_output(wait=True) # This is used to clear the output for cleaner printing, can be removed if it causes trouble.\n",
    "    if it == number_of_iterations:\n",
    "        print('iteration: ', it, ' cost: ', cost) # In this case the variable for the current cost is called \"cost\"\n",
    "print(\"new bias, weights:\", bias, weights)"
   ]
  },
  {
   "cell_type": "code",
   "execution_count": 177,
   "metadata": {},
   "outputs": [
    {
     "name": "stdout",
     "output_type": "stream",
     "text": [
      "Accuracy:  0.99\n"
     ]
    }
   ],
   "source": [
    "predicted = []\n",
    "for i in range(len(x)):\n",
    "    yhat = z_x(x[i], bias, weights)\n",
    "    predicted.append(round(yhat))\n",
    "\n",
    "print('Accuracy: ', np.sum(np.equal(y,predicted)) / len(predicted))"
   ]
  },
  {
   "cell_type": "markdown",
   "metadata": {},
   "source": [
    "Lets plot the decision boundary for the new weights"
   ]
  },
  {
   "cell_type": "code",
   "execution_count": 178,
   "metadata": {},
   "outputs": [
    {
     "data": {
      "image/png": "[encoded data removed]",
      "text/plain": [
       "<Figure size 432x288 with 1 Axes>"
      ]
     },
     "metadata": {
      "needs_background": "light"
     },
     "output_type": "display_data"
    }
   ],
   "source": [
    "x_values = x[:,0]\n",
    "y_values = - (bias + weights[0]*x_values) / weights[1]\n",
    "\n",
    "plt.figure()\n",
    "for label in np.unique(y):\n",
    "    plt.scatter(x[:,0][y==label],x[:,1][y==label], label = data.target_names[label])\n",
    "plt.plot(x_values, y_values, label='Decision Boundary')\n",
    "plt.legend()\n",
    "plt.show()"
   ]
  },
  {
   "cell_type": "code",
   "execution_count": null,
   "metadata": {},
   "outputs": [],
   "source": []
  }
 ],
 "metadata": {
  "kernelspec": {
   "display_name": "Python 3",
   "language": "python",
   "name": "python3"
  },
  "language_info": {
   "codemirror_mode": {
    "name": "ipython",
    "version": 3
   },
   "file_extension": ".py",
   "mimetype": "text/x-python",
   "name": "python",
   "nbconvert_exporter": "python",
   "pygments_lexer": "ipython3",
   "version": "3.8.8"
  }
 },
 "nbformat": 4,
 "nbformat_minor": 2
}
